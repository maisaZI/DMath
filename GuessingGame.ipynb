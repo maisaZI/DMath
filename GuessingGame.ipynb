{
  "nbformat": 4,
  "nbformat_minor": 0,
  "metadata": {
    "colab": {
      "provenance": [],
      "authorship_tag": "ABX9TyMQ2kXYQJcqTigFrXiW5pgD"
    },
    "kernelspec": {
      "name": "python3",
      "display_name": "Python 3"
    },
    "language_info": {
      "name": "python"
    }
  },
  "cells": [
    {
      "cell_type": "code",
      "source": [
        "# -*- coding: utf-8 -*-\n",
        "\"\"\"Maisa Ziyad\n",
        "\"\"\"\n",
        "\n",
        "import streamlit as st\n",
        "\n",
        "st.markdown(\n",
        "    \"\"\"\n",
        "    <style>\n",
        "    .stApp {\n",
        "        background-image: url(\"https://images.unsplash.com/photo-1504384308090-c894fdcc538d\");\n",
        "        background-size: cover;\n",
        "        background-repeat: no-repeat;\n",
        "        background-attachment: fixed;\n",
        "    }\n",
        "    </style>\n",
        "    \"\"\",\n",
        "    unsafe_allow_html=True\n",
        ")\n",
        "\n",
        "st.set_page_config(page_title=\"لعبة ذكاء التخمين 🤖\", page_icon=\"🎯\", layout=\"centered\")\n",
        "\n",
        "\n",
        "st.markdown(\"\"\"\n",
        "    <style>\n",
        "    .main {\n",
        "        background-color: #f0f6ff;\n",
        "        padding: 20px;\n",
        "        border-radius: 15px;\n",
        "        box-shadow: 0 0 15px rgba(0,0,0,0.1);\n",
        "    }\n",
        "    .stButton>button {\n",
        "        font-size: 18px;\n",
        "        padding: 0.5em 1em;\n",
        "        border-radius: 10px;\n",
        "        margin: 0.2em;\n",
        "        background-color: #4682B4;\n",
        "        color: white;\n",
        "        border: none;\n",
        "        transition: all 0.3s ease-in-out;\n",
        "    }\n",
        "    .stButton>button:hover {\n",
        "        background-color: #5b9bd5;\n",
        "        transform: scale(1.05);\n",
        "    }\n",
        "    </style>\n",
        "\"\"\", unsafe_allow_html=True)\n",
        "\n",
        "\n",
        "st.title(\"💙 هل الذكاء الاصطناعي يقدر يخمن رقمك؟\")\n",
        "\n",
        "st.markdown(\"### اختر رقمًا بين **1 و100** في ذهنك، وسأحاول تخمينه \")\n",
        "\n",
        "\n",
        "if st.button(\"🎮 ابدأ اللعبة\"):\n",
        "    st.session_state[\"start\"] = True\n",
        "    st.session_state[\"low\"] = 1\n",
        "    st.session_state[\"high\"] = 100\n",
        "    st.session_state[\"step\"] = 0\n",
        "\n",
        "\n",
        "if \"start\" in st.session_state and st.session_state[\"start\"]:\n",
        "    if \"mid\" not in st.session_state or st.button(\"➡️ التالي\"):\n",
        "        st.session_state[\"mid\"] = (st.session_state[\"low\"] + st.session_state[\"high\"]) // 2\n",
        "        st.session_state[\"step\"] += 1\n",
        "\n",
        "    st.subheader(f\"🤔 هل الرقم هو **{st.session_state['mid']}**؟\")\n",
        "\n",
        "    col1, col2, col3 = st.columns(3)\n",
        "\n",
        "    with col1:\n",
        "        if st.button(\"📉 أصغر\"):\n",
        "            st.session_state[\"high\"] = st.session_state[\"mid\"] - 1\n",
        "    with col2:\n",
        "        if st.button(\"✅ صحيح!\"):\n",
        "            st.success(f\"🎉 وجدته! الرقم هو **{st.session_state['mid']}** بعد {st.session_state['step']} محاولة 👏\")\n",
        "            st.session_state[\"start\"] = False\n",
        "    with col3:\n",
        "        if st.button(\"📈 أكبر\"):\n",
        "            st.session_state[\"low\"] = st.session_state[\"mid\"] + 1"
      ],
      "metadata": {
        "colab": {
          "base_uri": "https://localhost:8080/",
          "height": 385
        },
        "id": "C3ucNJN8Lv4n",
        "outputId": "148279c1-1d47-46aa-ace8-3f4ee29928dc"
      },
      "execution_count": 1,
      "outputs": [
        {
          "output_type": "error",
          "ename": "ModuleNotFoundError",
          "evalue": "No module named 'streamlit'",
          "traceback": [
            "\u001b[0;31m---------------------------------------------------------------------------\u001b[0m",
            "\u001b[0;31mModuleNotFoundError\u001b[0m                       Traceback (most recent call last)",
            "\u001b[0;32m<ipython-input-1-a4ba8b12fd98>\u001b[0m in \u001b[0;36m<cell line: 0>\u001b[0;34m()\u001b[0m\n\u001b[1;32m      3\u001b[0m \"\"\"\n\u001b[1;32m      4\u001b[0m \u001b[0;34m\u001b[0m\u001b[0m\n\u001b[0;32m----> 5\u001b[0;31m \u001b[0;32mimport\u001b[0m \u001b[0mstreamlit\u001b[0m \u001b[0;32mas\u001b[0m \u001b[0mst\u001b[0m\u001b[0;34m\u001b[0m\u001b[0;34m\u001b[0m\u001b[0m\n\u001b[0m\u001b[1;32m      6\u001b[0m \u001b[0;34m\u001b[0m\u001b[0m\n\u001b[1;32m      7\u001b[0m st.markdown(\n",
            "\u001b[0;31mModuleNotFoundError\u001b[0m: No module named 'streamlit'",
            "",
            "\u001b[0;31m---------------------------------------------------------------------------\u001b[0;32m\nNOTE: If your import is failing due to a missing package, you can\nmanually install dependencies using either !pip or !apt.\n\nTo view examples of installing some common dependencies, click the\n\"Open Examples\" button below.\n\u001b[0;31m---------------------------------------------------------------------------\u001b[0m\n"
          ],
          "errorDetails": {
            "actions": [
              {
                "action": "open_url",
                "actionText": "Open Examples",
                "url": "/notebooks/snippets/importing_libraries.ipynb"
              }
            ]
          }
        }
      ]
    }
  ]
}